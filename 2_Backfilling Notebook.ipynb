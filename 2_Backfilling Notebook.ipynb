{
 "cells": [
  {
   "cell_type": "markdown",
   "id": "a812d005",
   "metadata": {},
   "source": [
    "# Fetching feature view"
   ]
  },
  {
   "cell_type": "code",
   "execution_count": null,
   "id": "97379429",
   "metadata": {},
   "outputs": [],
   "source": [
    "import hopsworks\n",
    "from datetime import datetime"
   ]
  },
  {
   "cell_type": "code",
   "execution_count": null,
   "id": "5cf61934",
   "metadata": {},
   "outputs": [],
   "source": [
    "project = hopsworks.login()"
   ]
  },
  {
   "cell_type": "code",
   "execution_count": null,
   "id": "8dd4a6f3",
   "metadata": {},
   "outputs": [],
   "source": [
    "fs = project.get_feature_store()"
   ]
  },
  {
   "cell_type": "code",
   "execution_count": null,
   "id": "3cdacbb0",
   "metadata": {},
   "outputs": [],
   "source": [
    "fv = fs.get_feature_view(name=\"fraud_feature_view\", version=1)"
   ]
  },
  {
   "cell_type": "markdown",
   "id": "23f62caa",
   "metadata": {},
   "source": [
    "# Materialize all the logs in the feature view and fetch loggin feature groups"
   ]
  },
  {
   "cell_type": "code",
   "execution_count": null,
   "id": "74089a97",
   "metadata": {},
   "outputs": [],
   "source": [
    "# Materialize logs written into Kafka.\n",
    "fv.materialize_log(wait=True)"
   ]
  },
  {
   "cell_type": "code",
   "execution_count": null,
   "id": "4205354e",
   "metadata": {},
   "outputs": [],
   "source": [
    "# Fetch feature logger\n",
    "feature_logger = fv.feature_logging"
   ]
  },
  {
   "cell_type": "code",
   "execution_count": null,
   "id": "4bd5e3e4",
   "metadata": {},
   "outputs": [],
   "source": [
    "# Get logging feature groups\n",
    "feature_group_transformed, feature_group_untransfromed = feature_logger.transformed_features, feature_logger.untransformed_features "
   ]
  },
  {
   "cell_type": "markdown",
   "id": "50e209b5",
   "metadata": {},
   "source": [
    "# Fetch feature groups and Preparing Data"
   ]
  },
  {
   "cell_type": "code",
   "execution_count": null,
   "id": "688a3bca",
   "metadata": {},
   "outputs": [],
   "source": [
    "# Fetch feature groups\n",
    "fg_transactions = fs.get_feature_group(name=\"transactions_feature_group\", version = 1) \n",
    "fg_credit_cards = fs.get_feature_group(name=\"credit_cards_feature_group\", version = 1)  "
   ]
  },
  {
   "cell_type": "code",
   "execution_count": null,
   "id": "7bd41bfb",
   "metadata": {},
   "outputs": [],
   "source": [
    "# Featching features required in the feature group\n",
    "transaction_features = [feature.name for feature in fg_transactions.features]\n",
    "credit_card_features = [feature.name for feature in fg_credit_cards.features]\n",
    "\n",
    "# Add prefix to credit card features since they have been prefixed in the feature view.\n",
    "prefixed_credit_card_features = [\"fg2_\" + feature if feature != \"cc_num\" else feature for feature in credit_card_features]"
   ]
  },
  {
   "cell_type": "code",
   "execution_count": null,
   "id": "dbbcc0c9",
   "metadata": {},
   "outputs": [],
   "source": [
    "# Read untransformed data from logging feature group\n",
    "logging_dataframe = feature_group_untransfromed.read()"
   ]
  },
  {
   "cell_type": "code",
   "execution_count": null,
   "id": "71807ac8",
   "metadata": {},
   "outputs": [],
   "source": [
    "# Extract features required to be inserted into feature groups from logging features dataframe\n",
    "transactions_dataframe = logging_dataframe[transaction_features]\n",
    "credit_card_dataframe = logging_dataframe[prefixed_credit_card_features]\n",
    "\n",
    "# Renaming creadit cards dataframe to have name required for the feature group\n",
    "credit_card_dataframe = credit_card_dataframe.rename(columns={prefixed_name:required_name for prefixed_name, required_name in zip(prefixed_credit_card_features, credit_card_features)})"
   ]
  },
  {
   "cell_type": "markdown",
   "id": "1360ed39",
   "metadata": {},
   "source": [
    "# Backfilling Data"
   ]
  },
  {
   "cell_type": "code",
   "execution_count": null,
   "id": "8b40b6d7",
   "metadata": {},
   "outputs": [],
   "source": [
    "# Here `transform` is set to `False` so that on-demand features are not computed on ingestion as they are already computed and present in the dataframe.\n",
    "fg_transactions.insert(transactions_dataframe, transform=False)\n",
    "fg_credit_cards.insert(credit_card_dataframe, transform=False)"
   ]
  }
 ],
 "metadata": {
  "kernelspec": {
   "display_name": "Python 3 (ipykernel)",
   "language": "python",
   "name": "python3"
  },
  "language_info": {
   "codemirror_mode": {
    "name": "ipython",
    "version": 3
   },
   "file_extension": ".py",
   "mimetype": "text/x-python",
   "name": "python",
   "nbconvert_exporter": "python",
   "pygments_lexer": "ipython3",
   "version": "3.10.14"
  }
 },
 "nbformat": 4,
 "nbformat_minor": 5
}
