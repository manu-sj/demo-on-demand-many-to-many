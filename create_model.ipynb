{
 "cells": [
  {
   "cell_type": "markdown",
   "id": "09deef77-164d-4c8d-a471-cc430db8ba7d",
   "metadata": {},
   "source": [
    "# Importing Classes"
   ]
  },
  {
   "cell_type": "code",
   "execution_count": null,
   "id": "a4f59b4c-5ac4-4ea4-a4c4-5062562ef81c",
   "metadata": {},
   "outputs": [],
   "source": [
    "# Importing Pandas and other dependencies reqiuired for feature engineering.\n",
    "import pandas as pd\n",
    "import numpy as np\n",
    "import datetime\n",
    "\n",
    "# Importing classes and functions from scikit-learn for data preprocessing and modeling\n",
    "from sklearn.compose import ColumnTransformer   # For transforming specific columns in a DataFrame\n",
    "from sklearn.pipeline import Pipeline           # For creating a data processing pipeline\n",
    "from sklearn.impute import SimpleImputer        # For handling missing values\n",
    "from sklearn.preprocessing import StandardScaler, OrdinalEncoder   # For feature scaling and one-hot encoding\n",
    "from sklearn.feature_selection import SelectPercentile, chi2    # For feature selection using chi-squared test\n",
    "from sklearn.model_selection import train_test_split\n",
    "from sklearn.metrics import confusion_matrix\n",
    "from sklearn.metrics import f1_score\n",
    "\n",
    "# Importing XgBoost for training model\n",
    "import xgboost as xgb\n",
    "\n",
    "# Importing matplotlib and seaborn for plotting.\n",
    "from matplotlib import pyplot\n",
    "import seaborn as sns\n",
    "\n",
    "# Importing Joblib for saving model\n",
    "import joblib\n",
    "import os\n",
    "\n",
    "# Mute warnings\n",
    "import warnings\n",
    "warnings.filterwarnings(\"ignore\")"
   ]
  },
  {
   "cell_type": "markdown",
   "id": "8606c60d-17c4-4f72-99d3-5d12aa2f9d3e",
   "metadata": {},
   "source": [
    "# Reading Data "
   ]
  },
  {
   "cell_type": "code",
   "execution_count": null,
   "id": "eecf3859-c8f9-437e-8038-436abb10bd0a",
   "metadata": {},
   "outputs": [],
   "source": [
    "credit_cards_df = pd.read_csv(\n",
    "    \"https://repo.hops.works/master/hopsworks-tutorials/data/card_fraud_data/credit_cards.csv\",\n",
    ")"
   ]
  },
  {
   "cell_type": "code",
   "execution_count": null,
   "id": "6c8147f6-785b-463c-a01b-58bce878b658",
   "metadata": {},
   "outputs": [],
   "source": [
    "profiles_df = pd.read_csv(\n",
    "    \"https://repo.hops.works/master/hopsworks-tutorials/data/card_fraud_data/profiles.csv\", \n",
    "    parse_dates=[\"birthdate\"],\n",
    ")"
   ]
  },
  {
   "cell_type": "code",
   "execution_count": null,
   "id": "11846cad-b691-4f6b-b16d-bcfaac6cf69c",
   "metadata": {},
   "outputs": [],
   "source": [
    "trans_df = pd.read_csv(\n",
    "    \"https://repo.hops.works/master/hopsworks-tutorials/data/card_fraud_data/transactions.csv\", \n",
    "    parse_dates=[\"datetime\"],\n",
    ").rename(columns={\"city\":\"transaction_city\", \"country\":\"transaction_country\"})"
   ]
  },
  {
   "cell_type": "markdown",
   "id": "3121c23e-3979-4d62-aa02-d685625690a2",
   "metadata": {},
   "source": [
    "# Feature Engineering"
   ]
  },
  {
   "cell_type": "code",
   "execution_count": null,
   "id": "67f801ab-829c-45c2-81ca-6bd31bbe31d4",
   "metadata": {},
   "outputs": [],
   "source": [
    "credit_cards_extended = credit_cards_df.merge(profiles_df, on=\"cc_num\")"
   ]
  },
  {
   "cell_type": "code",
   "execution_count": null,
   "id": "618f426c-95ff-409a-ba36-bc37b3cf77bd",
   "metadata": {},
   "outputs": [],
   "source": [
    "all_data_df = trans_df.merge(credit_cards_extended, on=\"cc_num\")"
   ]
  },
  {
   "cell_type": "code",
   "execution_count": null,
   "id": "9f8d36d5-47a1-441d-807b-d09fbf726f9d",
   "metadata": {},
   "outputs": [],
   "source": [
    "all_data_df = all_data_df.rename(columns={\"datetime\":\"transaction_time\", \n",
    "                                          \"City\":\"city\", \n",
    "                                          \"Country\":\"country\", \n",
    "                                          \"sex\":\"fg2_sex\", \n",
    "                                          \"City\":\"fg2_city\", \n",
    "                                          \"Country\":\"fg2_country\", \n",
    "                                         })"
   ]
  },
  {
   "cell_type": "code",
   "execution_count": null,
   "id": "9b1042bb-3cf5-4e60-8481-6f261046ddf6",
   "metadata": {},
   "outputs": [],
   "source": [
    "all_data_df[\"fg2_days_to_expiry\"] = (datetime.datetime.now() - pd.to_datetime(all_data_df[\"expires\"], format=\"%m/%y\")).dt.days"
   ]
  },
  {
   "cell_type": "code",
   "execution_count": null,
   "id": "2d86947a-fb6c-4ed0-9211-ed49c141c678",
   "metadata": {},
   "outputs": [],
   "source": [
    "all_data_df[\"fg2_age_at_transaction\"] = (datetime.datetime.now() - all_data_df[\"birthdate\"]).dt.days"
   ]
  },
  {
   "cell_type": "markdown",
   "id": "3a129a68-85a5-4c7f-9922-98851115d993",
   "metadata": {},
   "source": [
    "# Creating Train-Test Split"
   ]
  },
  {
   "cell_type": "code",
   "execution_count": null,
   "id": "eeefbc1a-6349-4321-8c59-7b708601614c",
   "metadata": {},
   "outputs": [],
   "source": [
    "train, test = train_test_split(all_data_df, test_size=0.2)"
   ]
  },
  {
   "cell_type": "code",
   "execution_count": null,
   "id": "97455a2e-75ff-45e6-ba8b-be12324ee535",
   "metadata": {},
   "outputs": [],
   "source": [
    "X_train = train[['category', 'amount', 'transaction_city', 'transaction_country', \n",
    "                       'fg2_days_to_expiry', 'fg2_age_at_transaction', 'fg2_sex', 'fg2_city','fg2_country']]\n",
    "Y_train = train[[\"fraud_label\"]]"
   ]
  },
  {
   "cell_type": "code",
   "execution_count": null,
   "id": "ff1c4de5-298a-42db-85d6-af973b556c3c",
   "metadata": {},
   "outputs": [],
   "source": [
    "X_test = test[['category', 'amount', 'transaction_city', 'transaction_country', \n",
    "                       'fg2_days_to_expiry', 'fg2_age_at_transaction', 'fg2_sex', 'fg2_city','fg2_country']]\n",
    "Y_test = test[[\"fraud_label\"]]"
   ]
  },
  {
   "cell_type": "markdown",
   "id": "0ee7b1fc-57b7-4932-8dc4-9bb652e68e88",
   "metadata": {},
   "source": [
    "# Creating scikit learn pipeline for model training"
   ]
  },
  {
   "cell_type": "code",
   "execution_count": null,
   "id": "f6a5ab5c-3d7e-47ba-812d-5a488abc8627",
   "metadata": {},
   "outputs": [],
   "source": [
    "# Define a Pipeline for numeric features\n",
    "numeric_transformer = Pipeline(\n",
    "    steps=[\n",
    "        (\"imputer\", SimpleImputer(strategy=\"median\")),\n",
    "        (\"scaler\", StandardScaler()),\n",
    "    ]\n",
    ")\n",
    "# Define a Pipeline for categorical features\n",
    "categorical_transformer = Pipeline(\n",
    "    steps=[\n",
    "        (\"encoder\", OrdinalEncoder(handle_unknown=\"use_encoded_value\", unknown_value=-1))\n",
    "    ]\n",
    ")"
   ]
  },
  {
   "cell_type": "code",
   "execution_count": null,
   "id": "af8b8a28-daf5-44e4-90fb-5ac10a10fb0d",
   "metadata": {},
   "outputs": [],
   "source": [
    "# Define a ColumnTransformer\n",
    "preprocessor = ColumnTransformer(\n",
    "    transformers=[\n",
    "        (\"num\", numeric_transformer, ['amount', 'fg2_days_to_expiry', 'fg2_age_at_transaction']),\n",
    "        (\"cat\", categorical_transformer, ['category', 'transaction_city', 'transaction_country', 'fg2_sex', 'fg2_city', 'fg2_country']),\n",
    "    ]\n",
    ")"
   ]
  },
  {
   "cell_type": "markdown",
   "id": "6d9c8286-11b4-4108-96bd-1bc54c457e3c",
   "metadata": {},
   "source": [
    "# Training the model"
   ]
  },
  {
   "cell_type": "code",
   "execution_count": null,
   "id": "76e6c245-8a88-4735-9ebe-2a14da5e1ead",
   "metadata": {},
   "outputs": [],
   "source": [
    "# Create a pipeline\n",
    "xgb_classifier = Pipeline(\n",
    "    steps=[\n",
    "        (\"preprocessor\", preprocessor),\n",
    "        (\"classifier\", xgb.XGBClassifier()),\n",
    "    ]\n",
    ")\n",
    "# Fit the classifier\n",
    "xgb_classifier.fit(X_train, Y_train)\n",
    "\n",
    "# Evaluate the model\n",
    "y_pred = xgb_classifier.predict(X_test)"
   ]
  },
  {
   "cell_type": "markdown",
   "id": "d2d5d67b-d113-4d65-b099-402d2702d35e",
   "metadata": {},
   "source": [
    "# Testing Model "
   ]
  },
  {
   "cell_type": "code",
   "execution_count": null,
   "id": "9a9b44f5-b41d-4424-9b35-6e6720d321b8",
   "metadata": {},
   "outputs": [],
   "source": [
    "predictions = xgb_classifier.predict(X_test)\n",
    "predictions.astype(str)"
   ]
  },
  {
   "cell_type": "code",
   "execution_count": null,
   "id": "2dd18637-fa6c-4029-9d7e-068d2ff9243f",
   "metadata": {},
   "outputs": [],
   "source": [
    "# Compute f1 score\n",
    "metrics = {\n",
    "    \"f1_score\": f1_score(Y_test, y_pred, average='macro')\n",
    "}\n",
    "metrics"
   ]
  },
  {
   "cell_type": "code",
   "execution_count": null,
   "id": "12117323-f19a-46c3-b370-6bb5716df36c",
   "metadata": {},
   "outputs": [],
   "source": [
    "# Generate the confusion matrix using the true labels (y_test) and predicted labels (y_pred_test)\n",
    "results = confusion_matrix(Y_test, y_pred)\n",
    "\n",
    "# Print the confusion matrix\n",
    "print(results)"
   ]
  },
  {
   "cell_type": "markdown",
   "id": "54ced3d3-c1f6-428d-a997-378935a5d50f",
   "metadata": {},
   "source": [
    "# Plotting Results"
   ]
  },
  {
   "cell_type": "code",
   "execution_count": null,
   "id": "456bcaa1-3bd6-4f7b-9cda-75c237bcba2d",
   "metadata": {},
   "outputs": [],
   "source": [
    "# Create a DataFrame from the confusion matrix results with appropriate labels\n",
    "df_cm = pd.DataFrame(\n",
    "    results, \n",
    "    ['True Normal', 'True Fraud'],\n",
    "    ['Pred Normal', 'Pred Fraud'],\n",
    ")\n",
    "\n",
    "# Create a heatmap using seaborn with annotations\n",
    "cm = sns.heatmap(df_cm, annot=True)\n",
    "\n",
    "# Get the figure from the heatmap and display it\n",
    "fig = cm.get_figure()\n",
    "fig.show()"
   ]
  },
  {
   "cell_type": "markdown",
   "id": "50f20285-d926-4f58-83c1-554278b79488",
   "metadata": {},
   "source": [
    "# Saving Model"
   ]
  },
  {
   "cell_type": "code",
   "execution_count": null,
   "id": "7f598991-4e5b-45f0-b7c1-32c7733d9e0c",
   "metadata": {},
   "outputs": [],
   "source": [
    "# Specify the model directory\n",
    "model_dir = \"fraud_batch_model\"\n",
    "images_dir = os.path.join(model_dir, \"images\")\n",
    "\n",
    "# Create directories if they don't exist\n",
    "os.makedirs(images_dir, exist_ok=True)"
   ]
  },
  {
   "cell_type": "code",
   "execution_count": null,
   "id": "77f1a02b-ac90-4b64-ad5a-bc5fabc12dde",
   "metadata": {},
   "outputs": [],
   "source": [
    "# Specify the directory where the model will be saved\n",
    "model_dir = \"fraud_batch_model\"\n",
    "\n",
    "# Check if the directory exists, and create it if it doesn't\n",
    "if not os.path.isdir(model_dir):\n",
    "    os.mkdir(model_dir)\n",
    "\n",
    "# Save the trained XGBoost model using joblib\n",
    "joblib.dump(xgb_classifier, model_dir + '/xgb_classifier.pkl')\n",
    "\n",
    "# Save the confusion matrix heatmap as an image in the model directory\n",
    "fig.savefig(model_dir + \"/confusion_matrix.png\")"
   ]
  },
  {
   "cell_type": "code",
   "execution_count": null,
   "id": "ab4d8399-ac55-4647-b425-7c82395b3e12",
   "metadata": {},
   "outputs": [],
   "source": []
  }
 ],
 "metadata": {
  "kernelspec": {
   "display_name": "Python 3 (ipykernel)",
   "language": "python",
   "name": "python3"
  },
  "language_info": {
   "codemirror_mode": {
    "name": "ipython",
    "version": 3
   },
   "file_extension": ".py",
   "mimetype": "text/x-python",
   "name": "python",
   "nbconvert_exporter": "python",
   "pygments_lexer": "ipython3",
   "version": "3.10.14"
  }
 },
 "nbformat": 4,
 "nbformat_minor": 5
}
